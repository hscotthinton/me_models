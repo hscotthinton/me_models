{
 "cells": [
  {
   "cell_type": "markdown",
   "id": "cf63082d",
   "metadata": {},
   "source": [
    "# ME Model Metabolites"
   ]
  },
  {
   "cell_type": "markdown",
   "id": "a4ce3f64",
   "metadata": {},
   "source": [
    "## 1. Load Python Packages"
   ]
  },
  {
   "cell_type": "code",
   "execution_count": 1,
   "id": "4fcdfb6c",
   "metadata": {},
   "outputs": [
    {
     "ename": "ImportError",
     "evalue": "No module named 'pandas'",
     "output_type": "error",
     "traceback": [
      "\u001b[0;31m---------------------------------------------------------------------------\u001b[0m",
      "\u001b[0;31mImportError\u001b[0m                               Traceback (most recent call last)",
      "\u001b[0;32m<ipython-input-1-c56b4393c799>\u001b[0m in \u001b[0;36m<module>\u001b[0;34m()\u001b[0m\n\u001b[1;32m      6\u001b[0m \u001b[0;32mfrom\u001b[0m \u001b[0mcollections\u001b[0m \u001b[0;32mimport\u001b[0m \u001b[0mdefaultdict\u001b[0m\u001b[0;34m\u001b[0m\u001b[0m\n\u001b[1;32m      7\u001b[0m \u001b[0;32mimport\u001b[0m \u001b[0mpickle\u001b[0m\u001b[0;34m\u001b[0m\u001b[0m\n\u001b[0;32m----> 8\u001b[0;31m \u001b[0;32mimport\u001b[0m \u001b[0mpandas\u001b[0m \u001b[0;32mas\u001b[0m \u001b[0mpd\u001b[0m\u001b[0;34m\u001b[0m\u001b[0m\n\u001b[0m\u001b[1;32m      9\u001b[0m \u001b[0;34m\u001b[0m\u001b[0m\n\u001b[1;32m     10\u001b[0m \u001b[0;31m# third party imports\u001b[0m\u001b[0;34m\u001b[0m\u001b[0;34m\u001b[0m\u001b[0m\n",
      "\u001b[0;31mImportError\u001b[0m: No module named 'pandas'"
     ]
    }
   ],
   "source": [
    "from __future__ import print_function, division, absolute_import\n",
    "\n",
    "# python imports\n",
    "import re\n",
    "from os.path import join\n",
    "from collections import defaultdict\n",
    "import pickle\n",
    "import pandas as pd\n",
    "\n",
    "# third party imports\n",
    "import pandas\n",
    "import tabulate\n",
    "import cobra\n",
    "pd.set_option('display.max_columns', 100)\n",
    "pd.set_option('display.width',100)\n",
    "pd.set_option('display.max_colwidth',100)\n",
    "\n",
    "# ECOLIme\n",
    "import ecolime\n",
    "from ecolime import (transcription, translation, flat_files, generics, formulas, compartments)\n",
    "\n",
    "# COBRAme\n",
    "import cobrame\n",
    "from cobrame.util import building, mu, me_model_interface\n",
    "#from cobrame.io.json import save_json_me_model, save_reduced_json_me_model"
   ]
  },
  {
   "cell_type": "markdown",
   "id": "7caf0c13",
   "metadata": {},
   "source": [
    "## 2. Load the iJL1678b model\n",
    "\n",
    "Load the iJL1678b model in pickle format that is located in the current directory.\n"
   ]
  },
  {
   "cell_type": "code",
   "execution_count": null,
   "id": "34341b59",
   "metadata": {},
   "outputs": [],
   "source": [
    "with open('./me_models/iJL1678b.pickle', 'rb') as f:\n",
    "    me = pickle.load(f)"
   ]
  },
  {
   "cell_type": "markdown",
   "id": "5a62c3a2",
   "metadata": {},
   "source": [
    "List the attributes of the iJL1678b mode"
   ]
  },
  {
   "cell_type": "code",
   "execution_count": null,
   "id": "a93b413c",
   "metadata": {},
   "outputs": [],
   "source": [
    "pd.set_option('display.max_columns', 100)\n",
    "pd.set_option('display.width',100)\n",
    "pd.set_option('display.max_colwidth',100)\n",
    "pd.DataFrame({i: str(v) for i, v in me.__dict__.items()}, \n",
    "             index=['Attribute Values']).T"
   ]
  },
  {
   "cell_type": "markdown",
   "id": "b85db41f",
   "metadata": {},
   "source": [
    "The attributes of the ME model can be listed by attaching the name of the attribute to the name of the ME model preceeded by a \".\" Below are a couple of examples showing the metabolites, reactions and global-info of the model."
   ]
  },
  {
   "cell_type": "code",
   "execution_count": null,
   "id": "b1ae329d",
   "metadata": {},
   "outputs": [],
   "source": [
    "me.metabolites"
   ]
  },
  {
   "cell_type": "code",
   "execution_count": null,
   "id": "ee8a8b15",
   "metadata": {},
   "outputs": [],
   "source": [
    "me.reactions"
   ]
  },
  {
   "cell_type": "code",
   "execution_count": null,
   "id": "3288392c",
   "metadata": {},
   "outputs": [],
   "source": [
    "me.global_info"
   ]
  },
  {
   "cell_type": "markdown",
   "id": "ce7b2b38",
   "metadata": {},
   "source": [
    "Section 4.2 \"Transcription Reactions\" at https://cobrame.readthedocs.io/en/master/Reaction_Manipulation.html\n",
    "\n",
    "The total number of transcription-related reactions is calculated below. They include the\n",
    "\n",
    "1. Number of transcription reactions\n",
    "2. Number of transcription data objects\n",
    "3. Number of transcribed genes (RNA)"
   ]
  },
  {
   "cell_type": "code",
   "execution_count": null,
   "id": "7c369367",
   "metadata": {},
   "outputs": [],
   "source": [
    "print('number of transcription reactions = %i' %\n",
    "      len([r.id for r in me.reactions if type(r) == cobrame.TranscriptionReaction]))\n",
    "print('number of transcription data objects = %i' %  len(list(me.transcription_data)))\n",
    "print('number of transcribed genes (RNA) = %i' %\n",
    "      len([m.id for m in me.metabolites if type(m) == cobrame.TranscribedGene]))"
   ]
  },
  {
   "cell_type": "markdown",
   "id": "3bec0910",
   "metadata": {},
   "source": [
    "4.2.2. TranscriptionReaction/TranscriptionData properties\n",
    "\n",
    "Each TranscriptionReaction in a COBRAme ME-model is associated with exactly one TranscriptionData which includes everything necessary to define a reaction. This includes: \n",
    "- subreactions To handle enzymatic processes not performed by RNA polymerase \n",
    "- RNA Polymerase Different RNA polymerase metabolite for different sigma factors \n",
    "- RNA Products TUs often contain more than one RNA in sequence - Nucleotide sequence\n",
    "\n",
    "The TranscriptionData for TU containing the gene above is shown below"
   ]
  },
  {
   "cell_type": "code",
   "execution_count": 2,
   "id": "cf0f484d",
   "metadata": {},
   "outputs": [
    {
     "ename": "NameError",
     "evalue": "name 'me' is not defined",
     "output_type": "error",
     "traceback": [
      "\u001b[0;31m---------------------------------------------------------------------------\u001b[0m",
      "\u001b[0;31mNameError\u001b[0m                                 Traceback (most recent call last)",
      "\u001b[0;32m<ipython-input-2-ed2110c35941>\u001b[0m in \u001b[0;36m<module>\u001b[0;34m()\u001b[0m\n\u001b[0;32m----> 1\u001b[0;31m \u001b[0mrxn\u001b[0m \u001b[0;34m=\u001b[0m \u001b[0mme\u001b[0m\u001b[0;34m.\u001b[0m\u001b[0mreactions\u001b[0m\u001b[0;34m.\u001b[0m\u001b[0mtranscription_TU_8398_from_RPOE_MONOMER\u001b[0m\u001b[0;34m\u001b[0m\u001b[0m\n\u001b[0m\u001b[1;32m      2\u001b[0m \u001b[0mdata\u001b[0m \u001b[0;34m=\u001b[0m \u001b[0mrxn\u001b[0m\u001b[0;34m.\u001b[0m\u001b[0mtranscription_data\u001b[0m\u001b[0;34m\u001b[0m\u001b[0m\n\u001b[1;32m      3\u001b[0m \u001b[0mpd\u001b[0m\u001b[0;34m.\u001b[0m\u001b[0mDataFrame\u001b[0m\u001b[0;34m(\u001b[0m\u001b[0;34m{\u001b[0m\u001b[0mi\u001b[0m\u001b[0;34m:\u001b[0m \u001b[0mstr\u001b[0m\u001b[0;34m(\u001b[0m\u001b[0mv\u001b[0m\u001b[0;34m)\u001b[0m \u001b[0;32mfor\u001b[0m \u001b[0mi\u001b[0m\u001b[0;34m,\u001b[0m \u001b[0mv\u001b[0m \u001b[0;32min\u001b[0m \u001b[0mdata\u001b[0m\u001b[0;34m.\u001b[0m\u001b[0m__dict__\u001b[0m\u001b[0;34m.\u001b[0m\u001b[0mitems\u001b[0m\u001b[0;34m(\u001b[0m\u001b[0;34m)\u001b[0m\u001b[0;34m}\u001b[0m\u001b[0;34m,\u001b[0m \u001b[0mindex\u001b[0m\u001b[0;34m=\u001b[0m\u001b[0;34m[\u001b[0m\u001b[0;34m'Attribute Values'\u001b[0m\u001b[0;34m]\u001b[0m\u001b[0;34m)\u001b[0m\u001b[0;34m.\u001b[0m\u001b[0mT\u001b[0m\u001b[0;34m\u001b[0m\u001b[0m\n",
      "\u001b[0;31mNameError\u001b[0m: name 'me' is not defined"
     ]
    }
   ],
   "source": [
    "rxn = me.reactions.transcription_TU_8398_from_RPOE_MONOMER\n",
    "data = rxn.transcription_data\n",
    "pd.DataFrame({i: str(v) for i, v in data.__dict__.items()}, index=['Attribute Values']).T"
   ]
  },
  {
   "cell_type": "code",
   "execution_count": null,
   "id": "355a8a23",
   "metadata": {},
   "outputs": [],
   "source": [
    "pip list"
   ]
  }
 ],
 "metadata": {
  "kernelspec": {
   "display_name": "Python 3",
   "language": "python",
   "name": "python3"
  },
  "language_info": {
   "codemirror_mode": {
    "name": "ipython",
    "version": 3
   },
   "file_extension": ".py",
   "mimetype": "text/x-python",
   "name": "python",
   "nbconvert_exporter": "python",
   "pygments_lexer": "ipython3",
   "version": "3.5.6"
  }
 },
 "nbformat": 4,
 "nbformat_minor": 5
}
